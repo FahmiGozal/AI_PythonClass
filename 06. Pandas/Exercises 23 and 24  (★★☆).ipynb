{
 "cells": [
  {
   "cell_type": "code",
   "execution_count": 43,
   "id": "comic-license",
   "metadata": {},
   "outputs": [
    {
     "output_type": "stream",
     "name": "stdout",
     "text": [
      "  animal  age  visits priority\na    cat  2.5       1      yes\nb    cat  3.0       3      yes\nc  snake  0.5       2       no\nd    dog  NaN       3      yes\ne    dog  5.0       2       no\nf    cat  2.0       3       no\ng  snake  4.5       1       no\nh    cat  NaN       1      yes\ni    dog  7.0       2       no\nj    dog  3.0       1       no\n\n\n"
     ]
    }
   ],
   "source": [
    "# import the needed libraries and datasets\n",
    "import pandas as pd\n",
    "import numpy as np\n",
    "\n",
    "data = {'animal': ['cat', 'cat', 'snake', 'dog', 'dog', 'cat', 'snake', 'cat', 'dog', 'dog'],\n",
    "        'age': [2.5, 3, 0.5, np.nan, 5, 2, 4.5, np.nan, 7, 3],\n",
    "        'visits': [1, 3, 2, 3, 2, 3, 1, 1, 2, 1],\n",
    "        'priority': ['yes', 'yes', 'no', 'yes', 'no', 'no', 'no', 'yes', 'no', 'no']}\n",
    "\n",
    "labels = ['a', 'b', 'c', 'd', 'e', 'f', 'g', 'h', 'i', 'j']\n",
    "\n",
    "\n",
    "df = pd.DataFrame(data, index=labels)\n",
    "\n",
    "print(df)\n",
    "print('\\n')"
   ]
  },
  {
   "cell_type": "markdown",
   "id": "after-lithuania",
   "metadata": {},
   "source": [
    "**23.** Given a DataFrame of numeric values, say\n",
    "```python\n",
    "df = pd.DataFrame(np.random.random(size=(5, 3))) # a 5x3 frame of float values\n",
    "```\n",
    "\n",
    "how do you subtract the row mean from each element in the row?"
   ]
  },
  {
   "cell_type": "code",
   "execution_count": 44,
   "id": "supported-bicycle",
   "metadata": {},
   "outputs": [
    {
     "output_type": "stream",
     "name": "stdout",
     "text": [
      "          0         1         2\n0  0.770253  0.472774  0.326757\n1  0.290293  0.328445  0.587141\n2  0.738800  0.390416  0.955519\n3  0.103848  0.948248  0.331023\n4  0.724218  0.194280  0.616156\n\n\nAverage of each row\n\n0    0.523261\n1    0.401960\n2    0.694911\n3    0.461040\n4    0.511552\ndtype: float64\n\n\n"
     ]
    },
    {
     "output_type": "execute_result",
     "data": {
      "text/plain": [
       "          0         1         2\n",
       "0  0.246992 -0.050488 -0.196504\n",
       "1 -0.111667 -0.073515  0.185182\n",
       "2  0.043888 -0.304495  0.260607\n",
       "3 -0.357192  0.487208 -0.130017\n",
       "4  0.212667 -0.317271  0.104605"
      ],
      "text/html": "<div>\n<style scoped>\n    .dataframe tbody tr th:only-of-type {\n        vertical-align: middle;\n    }\n\n    .dataframe tbody tr th {\n        vertical-align: top;\n    }\n\n    .dataframe thead th {\n        text-align: right;\n    }\n</style>\n<table border=\"1\" class=\"dataframe\">\n  <thead>\n    <tr style=\"text-align: right;\">\n      <th></th>\n      <th>0</th>\n      <th>1</th>\n      <th>2</th>\n    </tr>\n  </thead>\n  <tbody>\n    <tr>\n      <th>0</th>\n      <td>0.246992</td>\n      <td>-0.050488</td>\n      <td>-0.196504</td>\n    </tr>\n    <tr>\n      <th>1</th>\n      <td>-0.111667</td>\n      <td>-0.073515</td>\n      <td>0.185182</td>\n    </tr>\n    <tr>\n      <th>2</th>\n      <td>0.043888</td>\n      <td>-0.304495</td>\n      <td>0.260607</td>\n    </tr>\n    <tr>\n      <th>3</th>\n      <td>-0.357192</td>\n      <td>0.487208</td>\n      <td>-0.130017</td>\n    </tr>\n    <tr>\n      <th>4</th>\n      <td>0.212667</td>\n      <td>-0.317271</td>\n      <td>0.104605</td>\n    </tr>\n  </tbody>\n</table>\n</div>"
     },
     "metadata": {},
     "execution_count": 44
    }
   ],
   "source": [
    "dfr=pd.DataFrame(np.random.random(size=(5, 3)))\n",
    "\n",
    "print(dfr)\n",
    "\n",
    "#This only changes column\n",
    "\"\"\"\n",
    "dfr[0]=1\n",
    "print(dfr)\n",
    "\"\"\"\n",
    "print('\\n')\n",
    "print('Average of each row')\n",
    "dfrmean=dfr.mean(axis=1)\n",
    "print()\n",
    "print(dfrmean)\n",
    "print('\\n')\n",
    "\n",
    "dfr.sub(dfr.mean(axis=1), axis=0)\n",
    "\n"
   ]
  },
  {
   "cell_type": "markdown",
   "id": "severe-count",
   "metadata": {},
   "source": [
    "**24.** Suppose you have DataFrame with 10 columns of real numbers, for example:\n",
    "\n",
    "```python\n",
    "df = pd.DataFrame(np.random.random(size=(5, 10)), columns=list('abcdefghij'))\n",
    "```\n",
    "Which column of numbers has the smallest sum? (Find that column's label.)"
   ]
  },
  {
   "cell_type": "code",
   "execution_count": 48,
   "id": "czech-superior",
   "metadata": {},
   "outputs": [
    {
     "output_type": "stream",
     "name": "stdout",
     "text": [
      "          a         b         c         d         e         f         g  \\\n0  0.274412  0.898151  0.904090  0.817743  0.842309  0.846190  0.659998   \n1  0.338643  0.190365  0.767364  0.377387  0.921167  0.637095  0.514139   \n2  0.304732  0.484810  0.794007  0.006971  0.421757  0.442548  0.679358   \n3  0.368206  0.371737  0.105879  0.240149  0.943061  0.876108  0.162328   \n4  0.777426  0.276945  0.342028  0.286728  0.293228  0.204092  0.045880   \n\n          h         i         j  \n0  0.184494  0.345138  0.661054  \n1  0.618801  0.046902  0.172080  \n2  0.963970  0.130503  0.728700  \n3  0.910088  0.014415  0.919617  \n4  0.794365  0.706249  0.519362  \n\n\na    2.063420\nb    2.222008\nc    2.913368\nd    1.728979\ne    3.421522\nf    3.006033\ng    2.061702\nh    3.471717\ni    1.243207\nj    3.000812\ndtype: float64\n"
     ]
    },
    {
     "output_type": "error",
     "ename": "NameError",
     "evalue": "name 'index' is not defined",
     "traceback": [
      "\u001b[1;31m---------------------------------------------------------------------------\u001b[0m",
      "\u001b[1;31mNameError\u001b[0m                                 Traceback (most recent call last)",
      "\u001b[1;32m<ipython-input-48-79a2d7f6c391>\u001b[0m in \u001b[0;36m<module>\u001b[1;34m\u001b[0m\n\u001b[0;32m      8\u001b[0m \u001b[1;33m\u001b[0m\u001b[0m\n\u001b[0;32m      9\u001b[0m \u001b[0mdfr2min\u001b[0m\u001b[1;33m=\u001b[0m\u001b[0mdfr2columnsum\u001b[0m\u001b[1;33m.\u001b[0m\u001b[0mmin\u001b[0m\u001b[1;33m(\u001b[0m\u001b[1;33m)\u001b[0m\u001b[1;33m\u001b[0m\u001b[1;33m\u001b[0m\u001b[0m\n\u001b[1;32m---> 10\u001b[1;33m \u001b[0mprint\u001b[0m\u001b[1;33m(\u001b[0m\u001b[0mdfr2min\u001b[0m\u001b[1;33m,\u001b[0m \u001b[0mdfr2min\u001b[0m\u001b[1;33m[\u001b[0m\u001b[0mindex\u001b[0m\u001b[1;33m]\u001b[0m\u001b[1;33m)\u001b[0m\u001b[1;33m\u001b[0m\u001b[1;33m\u001b[0m\u001b[0m\n\u001b[0m\u001b[0;32m     11\u001b[0m \u001b[1;33m\u001b[0m\u001b[0m\n\u001b[0;32m     12\u001b[0m \u001b[1;33m\u001b[0m\u001b[0m\n",
      "\u001b[1;31mNameError\u001b[0m: name 'index' is not defined"
     ]
    }
   ],
   "source": [
    "dfr2 = pd.DataFrame(np.random.random(size=(5, 10)), columns=list('abcdefghij'))\n",
    "\n",
    "print(dfr2)\n",
    "print('\\n')\n",
    "\n",
    "dfr2columnsum=dfr2.sum(axis=0)\n",
    "print(dfr2columnsum)\n",
    "\n",
    "dfr2min=dfr2columnsum.min()\n",
    "print(dfr2min)\n",
    "\n",
    "\n"
   ]
  },
  {
   "cell_type": "code",
   "execution_count": null,
   "metadata": {},
   "outputs": [],
   "source": []
  }
 ],
 "metadata": {
  "kernelspec": {
   "name": "python3810jvsc74a57bd0850c152f8f84f3548ed5f09fd834180be13dced819bcdf283d955f3afcab8cf5",
   "display_name": "Python 3.8.10 64-bit ('myenv': conda)"
  },
  "language_info": {
   "codemirror_mode": {
    "name": "ipython",
    "version": 3
   },
   "file_extension": ".py",
   "mimetype": "text/x-python",
   "name": "python",
   "nbconvert_exporter": "python",
   "pygments_lexer": "ipython3",
   "version": "3.8.10"
  }
 },
 "nbformat": 4,
 "nbformat_minor": 5
}