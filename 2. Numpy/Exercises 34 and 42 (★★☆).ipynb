{
 "cells": [
  {
   "cell_type": "code",
   "execution_count": 43,
   "id": "written-optics",
   "metadata": {},
   "outputs": [],
   "source": [
    "# Import the needed libraries\n",
    "import numpy as np"
   ]
  },
  {
   "cell_type": "markdown",
   "id": "polyphonic-finland",
   "metadata": {},
   "source": [
    "**34. How to get all the dates corresponding to the month of July 2016**"
   ]
  },
  {
   "cell_type": "code",
   "execution_count": 44,
   "id": "plastic-aaron",
   "metadata": {},
   "outputs": [
    {
     "output_type": "stream",
     "name": "stdout",
     "text": [
      "July 2016 :\n['2016-07-01' '2016-07-02' '2016-07-03' '2016-07-04' '2016-07-05'\n '2016-07-06' '2016-07-07' '2016-07-08' '2016-07-09' '2016-07-10'\n '2016-07-11' '2016-07-12' '2016-07-13' '2016-07-14' '2016-07-15'\n '2016-07-16' '2016-07-17' '2016-07-18' '2016-07-19' '2016-07-20'\n '2016-07-21' '2016-07-22' '2016-07-23' '2016-07-24' '2016-07-25'\n '2016-07-26' '2016-07-27' '2016-07-28' '2016-07-29' '2016-07-30'\n '2016-07-31']\n"
     ]
    }
   ],
   "source": [
    "print(\"July 2016 :\")\n",
    "\n",
    "\n",
    "julyarr = np.arange('2016-07','2016-08',dtype='datetime64[D]')\n",
    "print(julyarr)"
   ]
  },
  {
   "cell_type": "markdown",
   "id": "opposite-impact",
   "metadata": {},
   "source": [
    "**42. Consider two random array A and B, check if they are equal**"
   ]
  },
  {
   "cell_type": "code",
   "execution_count": 45,
   "id": "missing-reception",
   "metadata": {},
   "outputs": [
    {
     "output_type": "stream",
     "name": "stdout",
     "text": [
      "[[0.93616497 0.01730265 0.94547859]\n [0.9720102  0.33282919 0.99125101]\n [0.68997686 0.86624624 0.71850672]]\n[[0.16818201 0.22688961 0.29479794]\n [0.32692131 0.87551812 0.79656067]\n [0.85919582 0.15227016 0.33895832]]\n\n\nAre the two arrays equal?\nFalse\n"
     ]
    }
   ],
   "source": [
    "arr1=np.random.rand(3,3)\n",
    "arr2=np.random.rand(3,3)\n",
    "\n",
    "print(arr1)\n",
    "print(arr2)\n",
    "print('\\n')\n",
    "print(\"Are the two arrays equal?\")\n",
    "arrayequal = np.array_equal(arr1,arr2, equal_nan=True)\n",
    "print(arrayequal)\n"
   ]
  }
 ],
 "metadata": {
  "kernelspec": {
   "name": "python3810jvsc74a57bd0850c152f8f84f3548ed5f09fd834180be13dced819bcdf283d955f3afcab8cf5",
   "display_name": "Python 3.8.10 64-bit ('myenv': conda)"
  },
  "language_info": {
   "codemirror_mode": {
    "name": "ipython",
    "version": 3
   },
   "file_extension": ".py",
   "mimetype": "text/x-python",
   "name": "python",
   "nbconvert_exporter": "python",
   "pygments_lexer": "ipython3",
   "version": "3.8.10"
  }
 },
 "nbformat": 4,
 "nbformat_minor": 5
}