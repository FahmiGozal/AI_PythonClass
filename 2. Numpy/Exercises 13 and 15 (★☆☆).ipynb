{
 "cells": [
  {
   "cell_type": "code",
   "execution_count": 30,
   "id": "biological-worcester",
   "metadata": {},
   "outputs": [],
   "source": [
    "# Import the needed libraries\n",
    "import numpy as np"
   ]
  },
  {
   "source": [
    "#**13. Create a 10x10 array with random values and find the minimum and maximum values**\n",
    "\n",
    "arr1 = np.random.normal(15, size=(10,10))\n",
    "maxvalue = arr1.max()\n",
    "minvalue = arr1.min()\n",
    "\n",
    "print(arr1)\n",
    "\n",
    "print(maxvalue)\n",
    "print(minvalue)\n"
   ],
   "cell_type": "code",
   "metadata": {},
   "execution_count": 34,
   "outputs": [
    {
     "output_type": "stream",
     "name": "stdout",
     "text": [
      "[[15.35502442 14.77221948 15.02243373 14.27214527 14.9844317  16.93117707\n  14.98683014 14.28060585 14.59704814 15.09006052]\n [13.70617874 16.41649121 15.11225333 14.29873817 14.7840898  17.35611652\n  14.53584163 15.31313234 13.22691113 12.99415066]\n [14.14557544 15.66105001 14.61589944 14.22862345 14.34150209 14.77215034\n  14.47722589 15.19410323 15.34364547 16.33421513]\n [15.59417551 17.54283377 15.54970122 15.12612726 15.19787834 15.03282295\n  14.34646819 16.31127954 14.46730516 14.76374695]\n [15.48503386 14.03736516 15.18498063 13.54927197 14.70539124 14.92755768\n  15.03998536 13.45998018 13.26996077 14.40458813]\n [15.82161753 13.44213869 14.51854932 14.43042799 14.57408667 13.07247819\n  14.42031091 15.19034539 15.19636255 15.58484809]\n [16.8586336  14.25008792 16.11287381 15.38754723 14.54348302 15.43233415\n  17.72971111 13.2560829  16.61605323 13.57273024]\n [16.50124772 13.81614414 16.58626013 13.64852619 13.44042243 14.7480185\n  16.68959568 14.65394255 16.3613818  14.67870443]\n [15.48384933 14.96759712 15.04704884 14.85721026 16.57272437 14.06158108\n  14.68465052 15.76316177 12.19613082 14.29369588]\n [14.35987219 13.86504798 14.24160398 14.99051676 15.27511995 14.70318533\n  13.80027995 16.31008118 15.75217677 13.67786178]]\n17.729711105266933\n12.196130824456791\n"
     ]
    }
   ]
  },
  {
   "cell_type": "code",
   "execution_count": null,
   "id": "joint-explorer",
   "metadata": {},
   "outputs": [],
   "source": []
  },
  {
   "cell_type": "markdown",
   "id": "exempt-organ",
   "metadata": {},
   "source": [
    "**15. Create a 2d array with 1 on the border and 0 inside**"
   ]
  },
  {
   "cell_type": "code",
   "execution_count": 32,
   "id": "sufficient-facility",
   "metadata": {},
   "outputs": [
    {
     "output_type": "stream",
     "name": "stdout",
     "text": [
      "Original Array :\n[[0. 0. 0.]\n [0. 0. 0.]\n [0. 0. 0.]]\nPadded Array with 1 on sides\n[[1. 1. 1. 1. 1.]\n [1. 0. 0. 0. 1.]\n [1. 0. 0. 0. 1.]\n [1. 0. 0. 0. 1.]\n [1. 1. 1. 1. 1.]]\n"
     ]
    }
   ],
   "source": [
    "arr2=np.zeros((3,3))\n",
    "\n",
    "print(\"Original Array :\")\n",
    "print(arr2)\n",
    "\n",
    "arr2=np.pad(arr2,pad_width=1, mode='constant', constant_values=1)\n",
    "\n",
    "print(\"Padded Array with 1 on sides\")\n",
    "print(arr2)"
   ]
  }
 ],
 "metadata": {
  "kernelspec": {
   "name": "python3810jvsc74a57bd0850c152f8f84f3548ed5f09fd834180be13dced819bcdf283d955f3afcab8cf5",
   "display_name": "Python 3.8.10 64-bit ('myenv': conda)"
  },
  "language_info": {
   "codemirror_mode": {
    "name": "ipython",
    "version": 3
   },
   "file_extension": ".py",
   "mimetype": "text/x-python",
   "name": "python",
   "nbconvert_exporter": "python",
   "pygments_lexer": "ipython3",
   "version": "3.8.10"
  }
 },
 "nbformat": 4,
 "nbformat_minor": 5
}