{
 "cells": [
  {
   "cell_type": "code",
   "execution_count": 30,
   "id": "biological-worcester",
   "metadata": {},
   "outputs": [],
   "source": [
    "# Import the needed libraries\n",
    "import numpy as np"
   ]
  },
  {
   "source": [
    "#**13. Create a 10x10 array with random values and find the minimum and maximum values**\n",
    "\n",
    "arr1 = np.random.normal(15, size=(10,10))\n",
    "maxvalue = np.max(arr1)\n",
    "minvalue = np.min(arr1)\n",
    "\n",
    "print(arr1)\n",
    "\n",
    "print(maxvalue)\n",
    "print(minvalue)\n"
   ],
   "cell_type": "code",
   "metadata": {},
   "execution_count": 31,
   "outputs": [
    {
     "output_type": "stream",
     "name": "stdout",
     "text": [
      "[[13.46996385 13.91891551 15.39597138 14.01048273 14.50021929 14.36116344\n  14.68204641 14.66466512 15.01095213 15.95019032]\n [16.18440429 13.92355532 15.16319091 15.4864654  14.77763783 13.67526734\n  17.41539371 15.75317227 14.3001992  14.38341076]\n [13.71075578 16.38158017 13.25257989 13.41776642 16.43173374 15.15285242\n  15.46345871 16.38451495 14.16591824 14.33681244]\n [15.65216812 15.30414042 15.22606265 15.89413832 16.54085244 15.5100163\n  13.45656187 13.14470078 15.27094145 15.05214119]\n [17.18867445 13.32249793 14.94505649 12.78006853 14.51874171 15.30269363\n  14.4841887  14.46992117 16.03346826 15.82317114]\n [15.71638959 15.25786414 14.41846868 14.56738824 16.13040907 14.98204327\n  15.16111315 16.63695789 14.73083328 14.13879995]\n [17.51225713 13.55022276 13.28767605 16.27327047 14.92359335 16.5053216\n  13.66967034 14.858166   14.76169185 15.08963561]\n [16.38245319 14.41117078 13.39247508 15.20336033 14.30456354 13.70404371\n  15.40017007 15.38312142 13.75863467 14.6967254 ]\n [14.25321745 14.59888736 13.6108543  17.08368585 13.89440257 14.69417914\n  16.6898923  14.54284465 16.75981128 14.1826805 ]\n [13.7632043  14.79143962 15.40568984 14.76959659 14.61233061 13.77308179\n  15.13951489 14.49547477 15.32438973 14.46250473]]\n17.512257130562777\n12.78006853288546\n"
     ]
    }
   ]
  },
  {
   "cell_type": "code",
   "execution_count": null,
   "id": "joint-explorer",
   "metadata": {},
   "outputs": [],
   "source": []
  },
  {
   "cell_type": "markdown",
   "id": "exempt-organ",
   "metadata": {},
   "source": [
    "**15. Create a 2d array with 1 on the border and 0 inside**"
   ]
  },
  {
   "cell_type": "code",
   "execution_count": 32,
   "id": "sufficient-facility",
   "metadata": {},
   "outputs": [
    {
     "output_type": "stream",
     "name": "stdout",
     "text": [
      "Original Array :\n[[0. 0. 0.]\n [0. 0. 0.]\n [0. 0. 0.]]\nPadded Array with 1 on sides\n[[1. 1. 1. 1. 1.]\n [1. 0. 0. 0. 1.]\n [1. 0. 0. 0. 1.]\n [1. 0. 0. 0. 1.]\n [1. 1. 1. 1. 1.]]\n"
     ]
    }
   ],
   "source": [
    "arr2=np.zeros((3,3))\n",
    "\n",
    "print(\"Original Array :\")\n",
    "print(arr2)\n",
    "\n",
    "arr2=np.pad(arr2,pad_width=1, mode='constant', constant_values=1)\n",
    "\n",
    "print(\"Padded Array with 1 on sides\")\n",
    "print(arr2)"
   ]
  }
 ],
 "metadata": {
  "kernelspec": {
   "name": "python3810jvsc74a57bd0850c152f8f84f3548ed5f09fd834180be13dced819bcdf283d955f3afcab8cf5",
   "display_name": "Python 3.8.10 64-bit ('myenv': conda)"
  },
  "language_info": {
   "codemirror_mode": {
    "name": "ipython",
    "version": 3
   },
   "file_extension": ".py",
   "mimetype": "text/x-python",
   "name": "python",
   "nbconvert_exporter": "python",
   "pygments_lexer": "ipython3",
   "version": "3.8.10"
  }
 },
 "nbformat": 4,
 "nbformat_minor": 5
}