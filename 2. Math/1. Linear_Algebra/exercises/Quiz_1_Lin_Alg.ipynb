{
 "cells": [
  {
   "cell_type": "markdown",
   "metadata": {},
   "source": [
    "## Linear Algebra Quiz #1\n",
    "\n",
    "![title](./img/1_0.jpeg)\n",
    "\n",
    "We strongly suggest working with numpy :)"
   ]
  },
  {
   "cell_type": "code",
   "execution_count": 14,
   "metadata": {},
   "outputs": [],
   "source": [
    "#Do your imports here\n",
    "import numpy as np "
   ]
  },
  {
   "cell_type": "markdown",
   "metadata": {},
   "source": [
    "![title](./img/1_1.png)"
   ]
  },
  {
   "cell_type": "code",
   "execution_count": 20,
   "metadata": {},
   "outputs": [
    {
     "output_type": "stream",
     "name": "stdout",
     "text": [
      "1.0\n2.23606797749979\n3.7416573867739413\n7.416198487095663\n\n1.0\n2.23606797749979\n3.7416573867739413\n7.416198487095663\n"
     ]
    }
   ],
   "source": [
    "# type a function that given a 3_dimensional vector it is able to calculate its magnitude\n",
    "\n",
    "def magnitude_3(a,b,c):\n",
    "\n",
    "    X = [a, b, c]\n",
    "\n",
    "    return np.linalg.norm(X)\n",
    "\n",
    "Y = np.sqrt((2**2 + 3**2)+4**2)\n",
    "\n",
    "#print(Y)\n",
    "\n",
    "#magnitude_3(2,3,4)\n",
    "\n",
    "# type a function that given a n_dimensional vector it is able to calculate its magnitude\n",
    "# if you want to try this from python (not jupyter notebook) https://docs.python.org/3/library/argparse.html would be a good addition\n",
    "# if you are doing this from a jupyter notebook only, you can try to prompt the user for an input  \n",
    "\n",
    "def magnitude_complete(*args):\n",
    "    X = []\n",
    "\n",
    "    for arg in args:\n",
    "        X.append(arg)\n",
    "    \n",
    "    return np.linalg.norm(X)\n",
    "\n",
    "print(magnitude_complete(1))\n",
    "print(magnitude_complete(1,2))\n",
    "print(magnitude_complete(1,2,3))\n",
    "print(magnitude_complete(1,2,3,4,5))\n",
    "\n",
    "def magnitude_complete2(*args):\n",
    "    resultsquared=0\n",
    "\n",
    "    for arg in args:\n",
    "        resultsquared=resultsquared + arg**2\n",
    "    \n",
    "    return np.sqrt(resultsquared)\n",
    "\n",
    "print()\n",
    "print(magnitude_complete2(1))\n",
    "print(magnitude_complete2(1,2))\n",
    "print(magnitude_complete2(1,2,3))\n",
    "print(magnitude_complete2(1,2,3,4,5))\n",
    "\n",
    "    \n",
    "    \n"
   ]
  },
  {
   "cell_type": "markdown",
   "metadata": {},
   "source": [
    "uncomment the following line when you are ready to test"
   ]
  },
  {
   "cell_type": "code",
   "execution_count": 16,
   "metadata": {},
   "outputs": [],
   "source": [
    "assert magnitude_complete(1) == 1.0\n",
    "assert magnitude_complete(1,2) >= 2.236\n",
    "assert magnitude_complete(1,2,3) >= 3.741\n",
    "assert magnitude_complete(1,2,3,4,5) >= 5.477\n",
    "assert magnitude_complete(1,2,3,4,5) >= 7.416"
   ]
  },
  {
   "cell_type": "markdown",
   "metadata": {},
   "source": [
    "![title](./img/1_2.png)"
   ]
  },
  {
   "cell_type": "code",
   "execution_count": 23,
   "metadata": {},
   "outputs": [
    {
     "output_type": "stream",
     "name": "stdout",
     "text": [
      "the two vectors are of different dimensions : 2 and 3\n"
     ]
    }
   ],
   "source": [
    "def magnitude_vectors(a, b):\n",
    "    #checks that size is equal\n",
    "    #change the lists into numpy array\n",
    "    a = np.array(a)\n",
    "    b = np.array(b)\n",
    "\n",
    "    try:\n",
    "        a.size == b.size\n",
    "        sum_a_b = a + b\n",
    "        return np.linalg.norm(sum_a_b)\n",
    "    \n",
    "    except:\n",
    "        print(f'the two vectors are of different dimensions : {a.size} and {b.size}')\n",
    "\n",
    "    #returns the magnitude\n",
    "\n",
    "magnitude_vectors([5,1],[-4,-1,0])"
   ]
  },
  {
   "cell_type": "markdown",
   "metadata": {},
   "source": [
    "![title](./img/1_3.png)"
   ]
  },
  {
   "cell_type": "code",
   "execution_count": 28,
   "metadata": {},
   "outputs": [
    {
     "output_type": "stream",
     "name": "stdout",
     "text": [
      "1.0\n[0.         0.78539816]\n"
     ]
    }
   ],
   "source": [
    "def direction_vectors(a, b):\n",
    "    #checks that size is equal\n",
    "    a = np.array(a)\n",
    "    b = np.array(b)\n",
    "    #returns the angle. Hint: use the arctan\n",
    "    try:\n",
    "        a.size == b.size\n",
    "        sum_a_b = a + b\n",
    "        \n",
    "        angleofmatrix = np.arctan(sum_a_b)\n",
    "\n",
    "        return(angleofmatrix)\n",
    "\n",
    "    except:\n",
    "        print(f'the two vectors are of different dimensions : {a.size} and {b.size}')\n",
    "\n",
    "\n",
    "print(magnitude_vectors([5,1],[-4,-1]))\n"
   ]
  },
  {
   "cell_type": "markdown",
   "metadata": {},
   "source": [
    "![title](./img/1_4.png)\n",
    "- What is the magnitude of αx⃗? \n",
    "- If α>0, will the direction of the resulting vector change?\n",
    "- If α<0, will the direction of the resulting vector change?\n",
    "- If −1<α<1, will ∥αx⃗∥  increase, decrease or stay the same?"
   ]
  },
  {
   "cell_type": "code",
   "execution_count": null,
   "metadata": {},
   "outputs": [],
   "source": [
    "def alpha_magnitude(alpha, b):\n",
    "    \n",
    "    #returns the resulting magnitude,\n",
    "    # as alternative, just print it\n"
   ]
  },
  {
   "cell_type": "markdown",
   "metadata": {},
   "source": [
    "For the above exercise, write down in markdown or in a comment if the direction has changed and what has happened to the vector."
   ]
  },
  {
   "cell_type": "code",
   "execution_count": null,
   "metadata": {},
   "outputs": [],
   "source": []
  }
 ],
 "metadata": {
  "kernelspec": {
   "name": "python3810jvsc74a57bd0850c152f8f84f3548ed5f09fd834180be13dced819bcdf283d955f3afcab8cf5",
   "display_name": "Python 3.8.10 64-bit ('myenv': conda)"
  },
  "language_info": {
   "codemirror_mode": {
    "name": "ipython",
    "version": 3
   },
   "file_extension": ".py",
   "mimetype": "text/x-python",
   "name": "python",
   "nbconvert_exporter": "python",
   "pygments_lexer": "ipython3",
   "version": "3.8.10"
  },
  "varInspector": {
   "cols": {
    "lenName": 16,
    "lenType": 16,
    "lenVar": 40
   },
   "kernels_config": {
    "python": {
     "delete_cmd_postfix": "",
     "delete_cmd_prefix": "del ",
     "library": "var_list.py",
     "varRefreshCmd": "print(var_dic_list())"
    },
    "r": {
     "delete_cmd_postfix": ") ",
     "delete_cmd_prefix": "rm(",
     "library": "var_list.r",
     "varRefreshCmd": "cat(var_dic_list()) "
    }
   },
   "types_to_exclude": [
    "module",
    "function",
    "builtin_function_or_method",
    "instance",
    "_Feature"
   ],
   "window_display": false
  }
 },
 "nbformat": 4,
 "nbformat_minor": 2
}