{
 "cells": [
  {
   "cell_type": "code",
   "execution_count": 50,
   "id": "comic-license",
   "metadata": {},
   "outputs": [
    {
     "output_type": "stream",
     "name": "stdout",
     "text": [
      "  animal  age  visits priority\na    cat  2.5       1      yes\nb    cat  3.0       3      yes\nc  snake  0.5       2       no\nd    dog  NaN       3      yes\ne    dog  5.0       2       no\nf    cat  2.0       3       no\ng  snake  4.5       1       no\nh    cat  NaN       1      yes\ni    dog  7.0       2       no\nj    dog  3.0       1       no\n\n\n"
     ]
    }
   ],
   "source": [
    "# import the needed libraries and datasets\n",
    "import pandas as pd\n",
    "import numpy as np\n",
    "\n",
    "data = {'animal': ['cat', 'cat', 'snake', 'dog', 'dog', 'cat', 'snake', 'cat', 'dog', 'dog'],\n",
    "        'age': [2.5, 3, 0.5, np.nan, 5, 2, 4.5, np.nan, 7, 3],\n",
    "        'visits': [1, 3, 2, 3, 2, 3, 1, 1, 2, 1],\n",
    "        'priority': ['yes', 'yes', 'no', 'yes', 'no', 'no', 'no', 'yes', 'no', 'no']}\n",
    "\n",
    "labels = ['a', 'b', 'c', 'd', 'e', 'f', 'g', 'h', 'i', 'j']\n",
    "\n",
    "\n",
    "df = pd.DataFrame(data, index=labels)\n",
    "\n",
    "print(df)\n",
    "print('\\n')"
   ]
  },
  {
   "cell_type": "markdown",
   "id": "after-lithuania",
   "metadata": {},
   "source": [
    "**23.** Given a DataFrame of numeric values, say\n",
    "```python\n",
    "df = pd.DataFrame(np.random.random(size=(5, 3))) # a 5x3 frame of float values\n",
    "```\n",
    "\n",
    "how do you subtract the row mean from each element in the row?"
   ]
  },
  {
   "cell_type": "code",
   "execution_count": 51,
   "id": "supported-bicycle",
   "metadata": {},
   "outputs": [
    {
     "output_type": "stream",
     "name": "stdout",
     "text": [
      "          0         1         2\n0  0.264735  0.633910  0.864385\n1  0.637020  0.557291  0.039993\n2  0.621271  0.348613  0.589135\n3  0.113358  0.556252  0.996919\n4  0.872786  0.876847  0.728966\n\n\nAverage of each row\n\n0    0.587677\n1    0.411435\n2    0.519673\n3    0.555510\n4    0.826200\ndtype: float64\n\n\n"
     ]
    },
    {
     "output_type": "execute_result",
     "data": {
      "text/plain": [
       "          0         1         2\n",
       "0 -0.322942  0.046234  0.276709\n",
       "1  0.225586  0.145856 -0.371442\n",
       "2  0.101598 -0.171060  0.069462\n",
       "3 -0.442152  0.000742  0.441409\n",
       "4  0.046587  0.050647 -0.097234"
      ],
      "text/html": "<div>\n<style scoped>\n    .dataframe tbody tr th:only-of-type {\n        vertical-align: middle;\n    }\n\n    .dataframe tbody tr th {\n        vertical-align: top;\n    }\n\n    .dataframe thead th {\n        text-align: right;\n    }\n</style>\n<table border=\"1\" class=\"dataframe\">\n  <thead>\n    <tr style=\"text-align: right;\">\n      <th></th>\n      <th>0</th>\n      <th>1</th>\n      <th>2</th>\n    </tr>\n  </thead>\n  <tbody>\n    <tr>\n      <th>0</th>\n      <td>-0.322942</td>\n      <td>0.046234</td>\n      <td>0.276709</td>\n    </tr>\n    <tr>\n      <th>1</th>\n      <td>0.225586</td>\n      <td>0.145856</td>\n      <td>-0.371442</td>\n    </tr>\n    <tr>\n      <th>2</th>\n      <td>0.101598</td>\n      <td>-0.171060</td>\n      <td>0.069462</td>\n    </tr>\n    <tr>\n      <th>3</th>\n      <td>-0.442152</td>\n      <td>0.000742</td>\n      <td>0.441409</td>\n    </tr>\n    <tr>\n      <th>4</th>\n      <td>0.046587</td>\n      <td>0.050647</td>\n      <td>-0.097234</td>\n    </tr>\n  </tbody>\n</table>\n</div>"
     },
     "metadata": {},
     "execution_count": 51
    }
   ],
   "source": [
    "dfr=pd.DataFrame(np.random.random(size=(5, 3)))\n",
    "\n",
    "print(dfr)\n",
    "\n",
    "#This only changes column\n",
    "\"\"\"\n",
    "dfr[0]=1\n",
    "print(dfr)\n",
    "\"\"\"\n",
    "print('\\n')\n",
    "print('Average of each row')\n",
    "dfrmean=dfr.mean(axis=1)\n",
    "print()\n",
    "print(dfrmean)\n",
    "print('\\n')\n",
    "\n",
    "dfr.sub(dfr.mean(axis=1), axis=0)\n",
    "\n"
   ]
  },
  {
   "cell_type": "markdown",
   "id": "severe-count",
   "metadata": {},
   "source": [
    "**24.** Suppose you have DataFrame with 10 columns of real numbers, for example:\n",
    "\n",
    "```python\n",
    "df = pd.DataFrame(np.random.random(size=(5, 10)), columns=list('abcdefghij'))\n",
    "```\n",
    "Which column of numbers has the smallest sum? (Find that column's label.)"
   ]
  },
  {
   "cell_type": "code",
   "execution_count": 52,
   "id": "czech-superior",
   "metadata": {},
   "outputs": [
    {
     "output_type": "stream",
     "name": "stdout",
     "text": [
      "          a         b         c         d         e         f         g  \\\n0  0.627956  0.125981  0.661306  0.290934  0.043632  0.889508  0.131255   \n1  0.385103  0.948322  0.575677  0.692084  0.980859  0.474826  0.680819   \n2  0.185074  0.203053  0.707432  0.582606  0.349132  0.056645  0.939527   \n3  0.121342  0.987322  0.772221  0.018456  0.939230  0.178940  0.044790   \n4  0.703332  0.709220  0.233210  0.180598  0.377850  0.138985  0.188384   \n\n          h         i         j  \n0  0.214295  0.018148  0.331484  \n1  0.239777  0.084687  0.720343  \n2  0.511746  0.138169  0.821988  \n3  0.314143  0.318652  0.695204  \n4  0.879997  0.577883  0.478561  \n\n\na    2.022806\nb    2.973899\nc    2.949847\nd    1.764678\ne    2.690704\nf    1.738904\ng    1.984775\nh    2.159958\ni    1.137538\nj    3.047579\ndtype: float64\n\n\nthe smallest valued column is i\n"
     ]
    }
   ],
   "source": [
    "dfr2 = pd.DataFrame(np.random.random(size=(5, 10)), columns=list('abcdefghij'))\n",
    "\n",
    "print(dfr2)\n",
    "print('\\n')\n",
    "\n",
    "dfr2columnsum=dfr2.sum(axis=0)\n",
    "print(dfr2columnsum)\n",
    "print('\\n')\n",
    "\n",
    "dfr2min=dfr2columnsum.min()\n",
    "print(f'the smallest valued column is {dfr2columnsum.idxmin()')\n",
    "\n",
    "\n"
   ]
  },
  {
   "cell_type": "code",
   "execution_count": null,
   "metadata": {},
   "outputs": [],
   "source": []
  }
 ],
 "metadata": {
  "kernelspec": {
   "name": "python3810jvsc74a57bd0850c152f8f84f3548ed5f09fd834180be13dced819bcdf283d955f3afcab8cf5",
   "display_name": "Python 3.8.10 64-bit ('myenv': conda)"
  },
  "language_info": {
   "codemirror_mode": {
    "name": "ipython",
    "version": 3
   },
   "file_extension": ".py",
   "mimetype": "text/x-python",
   "name": "python",
   "nbconvert_exporter": "python",
   "pygments_lexer": "ipython3",
   "version": "3.8.10"
  }
 },
 "nbformat": 4,
 "nbformat_minor": 5
}