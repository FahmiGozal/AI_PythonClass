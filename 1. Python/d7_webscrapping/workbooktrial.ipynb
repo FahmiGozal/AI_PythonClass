{
 "metadata": {
  "language_info": {
   "codemirror_mode": {
    "name": "ipython",
    "version": 3
   },
   "file_extension": ".py",
   "mimetype": "text/x-python",
   "name": "python",
   "nbconvert_exporter": "python",
   "pygments_lexer": "ipython3",
   "version": "3.8.10"
  },
  "orig_nbformat": 2,
  "kernelspec": {
   "name": "python3810jvsc74a57bd0850c152f8f84f3548ed5f09fd834180be13dced819bcdf283d955f3afcab8cf5",
   "display_name": "Python 3.8.10 64-bit ('myenv': conda)"
  }
 },
 "nbformat": 4,
 "nbformat_minor": 2,
 "cells": [
  {
   "cell_type": "code",
   "execution_count": 25,
   "metadata": {},
   "outputs": [
    {
     "output_type": "stream",
     "name": "stdout",
     "text": [
      "Registering the HTML into list and indexing <list(soup.children)>\n['html', '\\n', <html>\n<head>\n<title>A simple example page</title>\n</head>\n<body>\n<p>Here is some simple content for this page.</p>\n</body>\n</html>]\n\nHTML (Remove HTML Flag) <list(soup.children)[2]>\n<html>\n<head>\n<title>A simple example page</title>\n</head>\n<body>\n<p>Here is some simple content for this page.</p>\n</body>\n</html>\n\nHTML children\n['\\n', <head>\n<title>A simple example page</title>\n</head>, '\\n', <body>\n<p>Here is some simple content for this page.</p>\n</body>, '\\n']\n\n"
     ]
    },
    {
     "output_type": "execute_result",
     "data": {
      "text/plain": [
       "['\\n', <p>Here is some simple content for this page.</p>, '\\n']"
      ]
     },
     "metadata": {},
     "execution_count": 25
    }
   ],
   "source": [
    "import requests\n",
    "from bs4 import BeautifulSoup\n",
    "\n",
    "\n",
    "\n",
    "page = requests.get(\"http://dataquestio.github.io/web-scraping-pages/simple.html\")\n",
    "page\n",
    "\n",
    "#page.status_code\n",
    "#page.content\n",
    "\n",
    "soup=BeautifulSoup(page.content, 'html.parser')\n",
    "#print(soup.prettify())\n",
    "#print()\n",
    "\n",
    "#without prettify for comparison\n",
    "#print(soup)\n",
    "\n",
    "list(soup.children)\n",
    "\n",
    "print('Registering the HTML into list and indexing <list(soup.children)>')\n",
    "print(list(soup.children))\n",
    "print()\n",
    "\n",
    "#Take only our interested part\n",
    "html=list(soup.children)[2]\n",
    "\n",
    "'''\n",
    "print('HTML (Remove HTML Flag) <list(soup.children)[2]>')\n",
    "print(html)\n",
    "print()\n",
    "'''\n",
    "\n",
    "list(html.children)\n",
    "\n",
    "'''\n",
    "print('HTML children')\n",
    "print(list(html.children))\n",
    "print()\n",
    "'''\n",
    "\n",
    "body = list(html.children)[3]\n",
    "list(body.children)\n",
    "\n",
    "\n"
   ]
  },
  {
   "cell_type": "code",
   "execution_count": null,
   "metadata": {},
   "outputs": [],
   "source": []
  }
 ]
}