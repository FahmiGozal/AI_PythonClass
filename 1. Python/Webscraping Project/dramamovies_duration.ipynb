{
 "metadata": {
  "language_info": {
   "codemirror_mode": {
    "name": "ipython",
    "version": 3
   },
   "file_extension": ".py",
   "mimetype": "text/x-python",
   "name": "python",
   "nbconvert_exporter": "python",
   "pygments_lexer": "ipython3",
   "version": "3.8.10"
  },
  "orig_nbformat": 2,
  "kernelspec": {
   "name": "python3810jvsc74a57bd0850c152f8f84f3548ed5f09fd834180be13dced819bcdf283d955f3afcab8cf5",
   "display_name": "Python 3.8.10 64-bit ('myenv': conda)"
  }
 },
 "nbformat": 4,
 "nbformat_minor": 2,
 "cells": [
  {
   "cell_type": "code",
   "execution_count": 34,
   "metadata": {},
   "outputs": [
    {
     "output_type": "stream",
     "name": "stdout",
     "text": [
      "50\n    duration unit\n0        142  min\n1        175  min\n2        152  min\n3        202  min\n4         96  min\n5        201  min\n6        154  min\n7        195  min\n8        148  min\n9        139  min\n10       178  min\n11       142  min\n12       148  min\n13       179  min\n14       136  min\n15       146  min\n16       124  min\n17       133  min\n18       132  min\n19       169  min\n20       130  min\n21       125  min\n22       169  min\n23       189  min\n24       116  min\n25       127  min\n26       118  min\n27       121  min\n28       133  min\n29       125  min\n30       207  min\n31       130  min\n32       160  min\n33       106  min\n34       112  min\n35       130  min\n36       151  min\n37       150  min\n38       155  min\n39       119  min\n40       106  min\n41       110  min\n42        88  min\n43       137  min\n44       155  min\n45        89  min\n46       116  min\n47       165  min\n48       109  min\n49       112  min\n"
     ]
    }
   ],
   "source": [
    "import requests\n",
    "from bs4 import BeautifulSoup\n",
    "import numpy as np \n",
    "import pandas as pd \n",
    "import re\n",
    "\n",
    "page = requests.get(\"https://www.imdb.com/search/title/?groups=top_100&sort=user_rating,desc\")\n",
    "#print(page)\n",
    "\n",
    "soup=BeautifulSoup(page.content, \"html.parser\")\n",
    "drama=soup.find_all('span', class_=\"runtime\")\n",
    "#print(drama)\n",
    "\n",
    "movie_duration=[]\n",
    "for m in drama:\n",
    "    movie_duration.append(m.text)\n",
    "#print(movie_duration)\n",
    "\n",
    "\n",
    "m_duration=[]\n",
    "for i in range (len(movie_duration)):\n",
    "    new_movie_duration=re.sub(\"[^0-9]\",' ',movie_duration[i])\n",
    "    m_duration.append(new_movie_duration)\n",
    "    m_duration[i]=int(m_duration[i].strip())\n",
    "\n",
    "#print(m_duration)\n",
    "\n",
    "#EXTRAS : Flavor Text for giving time units\n",
    "duration_unit = ['min'] * 50\n",
    "data = {'duration':m_duration, 'unit':duration_unit}\n",
    "\n",
    "#print(len(duration_unit))\n",
    "#print(len(m_duration))\n",
    "\n",
    "\n",
    "\n",
    "\n",
    "df_duration = pd.DataFrame(data)\n",
    "\n",
    "print(df_duration)\n",
    "\n"
   ]
  },
  {
   "cell_type": "code",
   "execution_count": 37,
   "metadata": {},
   "outputs": [
    {
     "output_type": "stream",
     "name": "stdout",
     "text": [
      "    duration unit  Normalized MinMax  Normalized Mean\n0        142  min           0.453782         0.008235\n1        175  min           0.731092         0.285546\n2        152  min           0.537815         0.092269\n3        202  min           0.957983         0.512437\n4         96  min           0.067227        -0.378319\n5        201  min           0.949580         0.504034\n6        154  min           0.554622         0.109076\n7        195  min           0.899160         0.453613\n8        148  min           0.504202         0.058655\n9        139  min           0.428571        -0.016975\n10       178  min           0.756303         0.310756\n11       142  min           0.453782         0.008235\n12       148  min           0.504202         0.058655\n13       179  min           0.764706         0.319160\n14       136  min           0.403361        -0.042185\n15       146  min           0.487395         0.041849\n16       124  min           0.302521        -0.143025\n17       133  min           0.378151        -0.067395\n18       132  min           0.369748        -0.075798\n19       169  min           0.680672         0.235126\n20       130  min           0.352941        -0.092605\n21       125  min           0.310924        -0.134622\n22       169  min           0.680672         0.235126\n23       189  min           0.848739         0.403193\n24       116  min           0.235294        -0.210252\n25       127  min           0.327731        -0.117815\n26       118  min           0.252101        -0.193445\n27       121  min           0.277311        -0.168235\n28       133  min           0.378151        -0.067395\n29       125  min           0.310924        -0.134622\n30       207  min           1.000000         0.554454\n31       130  min           0.352941        -0.092605\n32       160  min           0.605042         0.159496\n33       106  min           0.151261        -0.294286\n34       112  min           0.201681        -0.243866\n35       130  min           0.352941        -0.092605\n36       151  min           0.529412         0.083866\n37       150  min           0.521008         0.075462\n38       155  min           0.563025         0.117479\n39       119  min           0.260504        -0.185042\n40       106  min           0.151261        -0.294286\n41       110  min           0.184874        -0.260672\n42        88  min           0.000000        -0.445546\n43       137  min           0.411765        -0.033782\n44       155  min           0.563025         0.117479\n45        89  min           0.008403        -0.437143\n46       116  min           0.235294        -0.210252\n47       165  min           0.647059         0.201513\n48       109  min           0.176471        -0.269076\n49       112  min           0.201681        -0.243866\n"
     ]
    }
   ],
   "source": [
    "\n",
    "#Normalization min max\n",
    "#(value-min)/(max-min)\n",
    "\n",
    "#Normalization_mean\n",
    "#(value-mean)/(max-min)\n",
    "\n",
    "#Append new column to the dataframe\n",
    "\n",
    "df_duration['Normalized MinMax'] = (df_duration.duration-df_duration.duration.min())/(df_duration.duration.max()-df_duration.duration.min())\n",
    "df_duration['Normalized Mean'] = (df_duration.duration-df_duration.duration.mean())/(df_duration.duration.max()-df_duration.duration.min())\n",
    "\n",
    "print(df_duration)\n",
    "\n",
    "\n"
   ]
  },
  {
   "cell_type": "code",
   "execution_count": null,
   "metadata": {},
   "outputs": [],
   "source": []
  }
 ]
}