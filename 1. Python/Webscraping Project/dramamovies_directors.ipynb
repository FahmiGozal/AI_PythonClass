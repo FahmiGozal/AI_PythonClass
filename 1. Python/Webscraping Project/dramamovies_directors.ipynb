{
 "metadata": {
  "language_info": {
   "codemirror_mode": {
    "name": "ipython",
    "version": 3
   },
   "file_extension": ".py",
   "mimetype": "text/x-python",
   "name": "python",
   "nbconvert_exporter": "python",
   "pygments_lexer": "ipython3",
   "version": "3.8.10"
  },
  "orig_nbformat": 2,
  "kernelspec": {
   "name": "python3810jvsc74a57bd0850c152f8f84f3548ed5f09fd834180be13dced819bcdf283d955f3afcab8cf5",
   "display_name": "Python 3.8.10 64-bit ('myenv': conda)"
  }
 },
 "nbformat": 4,
 "nbformat_minor": 2,
 "cells": [
  {
   "cell_type": "code",
   "execution_count": 3,
   "metadata": {},
   "outputs": [
    {
     "output_type": "stream",
     "name": "stdout",
     "text": [
      "['The Shawshank Redemption', 'The Godfather', 'The Dark Knight', 'The Godfather  Part II', 'Angry Men', 'The Lord of the Rings  The Return of the King', 'Pulp Fiction', 'Schindler s List', 'Inception', 'Fight Club', 'The Lord of the Rings  The Fellowship of the Ring', 'Forrest Gump', 'The Good  the Bad and the Ugly', 'The Lord of the Rings  The Two Towers', 'The Matrix', 'Goodfellas', 'Star Wars  Episode V   The Empire Strikes Back', 'One Flew Over the Cuckoo s Nest', 'Parasite', 'Interstellar', 'City of God', 'Spirited Away', 'Saving Private Ryan', 'The Green Mile', 'Life Is Beautiful', 'Seven', 'The Silence of the Lambs', 'Star Wars  Episode IV   A New Hope', 'Harakiri', 'Pather Panchali', 'Seven Samurai', 'It s a Wonderful Life', 'Hamilton', 'Whiplash', 'Untouchable', 'The Prestige', 'The Departed', 'The Pianist', 'Gladiator', 'American History X', 'The Usual Suspects', 'Leon', 'The Lion King', 'Terminator    Judgment Day', 'Cinema Paradiso', 'Grave of the Fireflies', 'Back to the Future', 'Once Upon a Time in the West', 'Psycho', 'Rear Window']\n"
     ]
    }
   ],
   "source": [
    "import requests\n",
    "from bs4 import BeautifulSoup\n",
    "import numpy as np \n",
    "import pandas as pd \n",
    "import re\n",
    "\n",
    "page = requests.get(\"https://www.imdb.com/search/title/?groups=top_100&sort=user_rating,desc\")\n",
    "#print(page)\n",
    "\n",
    "soup=BeautifulSoup(page.content, \"html.parser\")\n",
    "drama=soup.find_all('a', href_=True)\n",
    "#print(drama)\n",
    "\n",
    "movie_title=[]\n",
    "for m in drama:\n",
    "    movie_title.append(m.text)\n",
    "#print(movie_title)\n",
    "\n",
    "m_titles=[]\n",
    "for i in range (len(movie_title)):\n",
    "    new_movie_title=re.sub(\"[^A-Za-z]\",' ',movie_title[i])\n",
    "    m_titles.append(new_movie_title)\n",
    "    m_titles[i]=m_titles[i].strip()\n",
    "\n",
    "print(m_titles)\n",
    "\n"
   ]
  },
  {
   "cell_type": "code",
   "execution_count": 14,
   "metadata": {},
   "outputs": [],
   "source": [
    "\n"
   ]
  }
 ]
}