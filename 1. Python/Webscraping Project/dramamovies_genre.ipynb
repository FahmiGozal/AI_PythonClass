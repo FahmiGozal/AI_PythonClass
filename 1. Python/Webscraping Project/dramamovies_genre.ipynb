{
 "metadata": {
  "language_info": {
   "codemirror_mode": {
    "name": "ipython",
    "version": 3
   },
   "file_extension": ".py",
   "mimetype": "text/x-python",
   "name": "python",
   "nbconvert_exporter": "python",
   "pygments_lexer": "ipython3",
   "version": "3.8.10"
  },
  "orig_nbformat": 2,
  "kernelspec": {
   "name": "python3810jvsc74a57bd0850c152f8f84f3548ed5f09fd834180be13dced819bcdf283d955f3afcab8cf5",
   "display_name": "Python 3.8.10 64-bit ('myenv': conda)"
  }
 },
 "nbformat": 4,
 "nbformat_minor": 2,
 "cells": [
  {
   "cell_type": "code",
   "execution_count": 6,
   "metadata": {},
   "outputs": [
    {
     "output_type": "stream",
     "name": "stdout",
     "text": [
      "                               0\n0                          Drama\n1                   Crime, Drama\n2           Action, Crime, Drama\n3                   Crime, Drama\n4                   Crime, Drama\n5       Action, Adventure, Drama\n6                   Crime, Drama\n7      Biography, Drama, History\n8      Action, Adventure, Sci Fi\n9                          Drama\n10      Action, Adventure, Drama\n11                Drama, Romance\n12                       Western\n13      Action, Adventure, Drama\n14                Action, Sci Fi\n15       Biography, Crime, Drama\n16    Action, Adventure, Fantasy\n17                         Drama\n18       Comedy, Drama, Thriller\n19      Adventure, Drama, Sci Fi\n20                  Crime, Drama\n21  Animation, Adventure, Family\n22                    Drama, War\n23         Crime, Drama, Fantasy\n24        Comedy, Drama, Romance\n25         Crime, Drama, Mystery\n26        Crime, Drama, Thriller\n27    Action, Adventure, Fantasy\n28        Action, Drama, Mystery\n29                         Drama\n30      Action, Adventure, Drama\n31        Drama, Family, Fantasy\n32     Biography, Drama, History\n33                  Drama, Music\n34      Biography, Comedy, Drama\n35        Drama, Mystery, Sci Fi\n36        Crime, Drama, Thriller\n37       Biography, Drama, Music\n38      Action, Adventure, Drama\n39                         Drama\n40      Crime, Mystery, Thriller\n41          Action, Crime, Drama\n42   Animation, Adventure, Drama\n43                Action, Sci Fi\n44                Drama, Romance\n45         Animation, Drama, War\n46     Adventure, Comedy, Sci Fi\n47                       Western\n48     Horror, Mystery, Thriller\n49             Mystery, Thriller\n"
     ]
    }
   ],
   "source": [
    "import requests\n",
    "from bs4 import BeautifulSoup\n",
    "import numpy as np \n",
    "import pandas as pd \n",
    "import re\n",
    "\n",
    "page = requests.get(\"https://www.imdb.com/search/title/?groups=top_100&sort=user_rating,desc\")\n",
    "#print(page)\n",
    "\n",
    "soup=BeautifulSoup(page.content, \"html.parser\")\n",
    "drama=soup.find_all('span', class_=\"genre\")\n",
    "#print(drama)\n",
    "\n",
    "movie_genre=[]\n",
    "for m in drama:\n",
    "    movie_genre.append(m.text)\n",
    "#print(movie_genre)\n",
    "\n",
    "m_genre=[]\n",
    "for i in range (len(movie_genre)):\n",
    "    new_movie_genre=re.sub(\"[^A-Za-z,]\",' ',movie_genre[i])\n",
    "    m_genre.append(new_movie_genre)\n",
    "    m_genre[i]=m_genre[i].strip()\n",
    "\n",
    "#print(m_genre)\n",
    "df_genre = pd.DataFrame(m_genre)\n",
    "print(df_genre)\n",
    "\n"
   ]
  },
  {
   "cell_type": "code",
   "execution_count": 5,
   "metadata": {},
   "outputs": [],
   "source": [
    "\n"
   ]
  }
 ]
}