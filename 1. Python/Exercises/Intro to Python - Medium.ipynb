{
 "cells": [
  {
   "cell_type": "markdown",
   "metadata": {},
   "source": [
    "Here you have a collection of guided exercises for the first class on Python. <br>\n",
    "The exercises are divided by topic, following the topics reviewed during the theory session, and for each topic you have some mandatory exercises, and other optional exercises, which you are invited to do if you still have time after the mandatory exercises. <br>\n",
    "\n",
    "Remember that you have 5 hours to solve these exercises, after which we will review the most interesting exercises together. If you don't finish all the exercises, you can work on them tonightor tomorrow. \n",
    "\n",
    "At the end of the class, we will upload the code with the solutions of the exercises so that you can review them again if needed. If you still have not finished some exercises, try to do them first by yourself, before taking a look at the solutions: you are doing these exercises for yourself, so it is always the best to do them your way first, as it is the fastest way to learn!"
   ]
  },
  {
   "cell_type": "markdown",
   "metadata": {},
   "source": [
    "**Exercise 1.3 (🌶️):** You look at the clock and see that it is currently 14.00h. You set an alarm to go off 535 hours later. At what time will the alarm go off? Write a program that prints the answer. Hint: for the best solution, you will need the modulo operator. Second hint: The answer is 21.00h, but of course, this exercise is not about the answer, but about how you get it."
   ]
  },
  {
   "cell_type": "code",
   "execution_count": 2,
   "metadata": {},
   "outputs": [
    {
     "name": "stdout",
     "output_type": "stream",
     "text": [
      "21.0\n"
     ]
    }
   ],
   "source": [
    "#Your Code Here\n",
    "inittime=1400\n",
    "afterclock=53500\n",
    "newtime=((inittime+afterclock)/100)%24\n",
    "\n",
    "print(newtime)"
   ]
  },
  {
   "cell_type": "markdown",
   "metadata": {},
   "source": [
    "**Exercise 5.4 (🌶️):** \"99 bottles of beer\" is a traditional song in the United States and Canada. It is popular to sing on long trips, as it has a very repetitive format which is easy to memorize, and can take a long time to sing. The song's simple lyrics are as follows: \"99 bottles of beer on the wall, 99 bottles of beer. Take one down, pass it around, 98 bottles of beer on the wall.\" The same verse is repeated, each time with one fewer bottle. The song is completed when the singer or singers reach zero. Write a function that generates and prints all the verses of the song (though you might start a bit lower, for instance with 10 bottles). Make sure that your loop is not endless, and that you use the proper inflection for the word \"bottle\"."
   ]
  },
  {
   "cell_type": "code",
   "execution_count": 6,
   "metadata": {},
   "outputs": [
    {
     "name": "stdout",
     "output_type": "stream",
     "text": [
      "4 bottles of beer on the wall, 4 bottles of beer. Take one down, pass it around, 3 bottles of beer in the wall\n",
      "3 bottles of beer on the wall, 3 bottles of beer. Take one down, pass it around, 2 bottles of beer in the wall\n",
      "2 bottles of beer on the wall, 2 bottles of beer. Take one down, pass it around, 1 bottle of beer in the wall\n",
      "1 bottle of beer on the wall, 1 bottle of beer. Take one down, pass it around, 0 bottles of beer in the wall\n"
     ]
    }
   ],
   "source": [
    "#Your Code Here\n",
    "def beersong(i):\n",
    "    \"\"\"\n",
    "    5 bottles of beer on the wall, 5 bottles of beer. Take one down, pass it around, 4 bottles of beer in the wall\n",
    "    4 bottles of beer on the wall, 4 bottles of beer. Take one down, pass it around, 3 bottles of beer in the wall\n",
    "    3 bottles of beer on the wall, 3 bottles of beer. Take one down, pass it around, 2 bottles of beer in the wall\n",
    "    2 bottles of beer on the wall, 2 bottles of beer. Take one down, pass it around, 1 bottle of beer in the wall\n",
    "    1 bottle of beer on the wall, 1 bottle of beer. Take one down, pass it around, 0 bottles of beer in the wall\n",
    "    \"\"\"\n",
    "    \n",
    "    for i in range (i,0,-1):\n",
    "        \n",
    "        if i==2:\n",
    "            print(f\"{i} bottles of beer on the wall, {i} bottles of beer. Take one down, pass it around, {i-1} bottle of beer in the wall\")\n",
    "        \n",
    "        elif i==1:\n",
    "            print(f\"{i} bottle of beer on the wall, {i} bottle of beer. Take one down, pass it around, {i-1} bottles of beer in the wall\")\n",
    "        \n",
    "        else:\n",
    "            print(f\"{i} bottles of beer on the wall, {i} bottles of beer. Take one down, pass it around, {i-1} bottles of beer in the wall\")\n",
    "  \n",
    "\n",
    "    return\n",
    "\n",
    "beersong(4)\n"
   ]
  },
  {
   "cell_type": "markdown",
   "metadata": {},
   "source": [
    "**Exercise 5.5 (🌶️):** The Fibonacci sequence is a sequence of numbers that starts with 1, followed by 1 again. Every next number is the sum of the two previous numbers. I.e., the sequence starts with 1, 1, 2, 3, 5, 8, 13, 21,... Write a function that calculates and prints the Fibonacci sequence until the numbers get higher than a `maximum`."
   ]
  },
  {
   "cell_type": "code",
   "execution_count": 14,
   "metadata": {},
   "outputs": [
    {
     "name": "stdout",
     "output_type": "stream",
     "text": [
      "Fibonacci sequence up to 100\n",
      "[0, 1, 1, 2, 3, 5, 8, 13, 21, 34, 55, 89]\n"
     ]
    }
   ],
   "source": [
    "#Your Code Here\n",
    "def fibonacci(maxfibo):\n",
    "    \"\"\"\n",
    "    Fibonacci sequence up to 22 :\n",
    "    0 , 1 , 1 , 2 , 3 , 5 , 8 , 13 , 21\n",
    "    \n",
    "    \"\"\"\n",
    "    fibotable=[0,1,1]\n",
    "    \n",
    "    #initial defining of last element value compared to maximum allowable\n",
    "    nextfibo=fibotable[-1]\n",
    "    \n",
    "    while nextfibo<maxfibo:\n",
    "        \n",
    "        #calculate the next element\n",
    "        nextfibo=fibotable[-1]+fibotable[-2]\n",
    "        \n",
    "        #This if statement is to prevent higher last element from maximum allowable\n",
    "        if nextfibo<maxfibo:\n",
    "            fibotable.append(nextfibo)\n",
    "    \n",
    "    print(f\"Fibonacci sequence up to {maxfibo}\")\n",
    "    print(fibotable)\n",
    "    \n",
    "    return\n",
    "\n",
    "fibonacci(100)\n",
    "\n",
    "\n",
    "\n"
   ]
  },
  {
   "cell_type": "code",
   "execution_count": 10,
   "metadata": {},
   "outputs": [
    {
     "name": "stdout",
     "output_type": "stream",
     "text": [
      "[0, 1, 1, 2]\n",
      "2\n"
     ]
    }
   ],
   "source": [
    "list=[0,1,1]\n",
    "list.append(2)\n",
    "\n",
    "print(list)\n",
    "print(list[-1])"
   ]
  },
  {
   "cell_type": "markdown",
   "metadata": {},
   "source": [
    "**Exercise 5.8 (🌶️):** A, B, C, and D are all different digits. The number DCBA is equal to 4 times the number ABCD. What are the digits? Note: to make ABCD and DCBA conventional numbers, neither A nor D can be zero. Use a quadruple-nested loop."
   ]
  },
  {
   "cell_type": "code",
   "execution_count": 20,
   "metadata": {},
   "outputs": [
    {
     "name": "stdout",
     "output_type": "stream",
     "text": [
      "A = 2\n",
      "B = 1\n",
      "C = 7\n",
      "D = 8\n"
     ]
    }
   ],
   "source": [
    "#Your Code Here\n",
    "# Solve 4*ABCD == DCBA\n",
    "def nested_nest():\n",
    "    \n",
    "    \"\"\"\n",
    "    A = 2\n",
    "    B = 1\n",
    "    C = 7\n",
    "    D = 8\n",
    "    \"\"\"\n",
    "    \n",
    "    A=1\n",
    "    B=0\n",
    "    C=0\n",
    "    D=1\n",
    "    \n",
    "    for A in range (1,9):\n",
    "        for B in range (0,9):\n",
    "            for C in range (0,9):\n",
    "                for D in range (1,9):\n",
    "                    ABCD=A*1000+B*100+C*10+D\n",
    "                    DCBA=D*1000+C*100+B*10+A\n",
    "                    if DCBA/ABCD==4:\n",
    "                        break\n",
    "                    else:\n",
    "                        D += 1\n",
    "                if DCBA/ABCD==4:\n",
    "                    break\n",
    "                else:\n",
    "                    C += 1\n",
    "            if DCBA/ABCD==4:\n",
    "                break\n",
    "            else:\n",
    "                B += 1\n",
    "        if DCBA/ABCD==4:\n",
    "            break\n",
    "        else:\n",
    "            A += 1\n",
    "    \n",
    "    print (f\"A = {A}\")\n",
    "    print (f\"B = {B}\")\n",
    "    print (f\"C = {C}\")\n",
    "    print (f\"D = {D}\")\n",
    "            \n",
    "                    \n",
    "    return\n",
    "\n",
    "nested_nest()\n",
    "    "
   ]
  },
  {
   "cell_type": "code",
   "execution_count": null,
   "metadata": {},
   "outputs": [],
   "source": []
  }
 ],
 "metadata": {
  "kernelspec": {
   "display_name": "Python 3",
   "language": "python",
   "name": "python3"
  },
  "language_info": {
   "codemirror_mode": {
    "name": "ipython",
    "version": 3
   },
   "file_extension": ".py",
   "mimetype": "text/x-python",
   "name": "python",
   "nbconvert_exporter": "python",
   "pygments_lexer": "ipython3",
   "version": "3.8.10"
  }
 },
 "nbformat": 4,
 "nbformat_minor": 4
}
