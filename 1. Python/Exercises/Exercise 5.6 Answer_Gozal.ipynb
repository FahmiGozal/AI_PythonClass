{
 "cells": [
  {
   "cell_type": "markdown",
   "metadata": {},
   "source": [
    "**Exercise 5.6 (🌶️🌶️):** A prime number is a positive integer that is dividable by exactly two different numbers, namely 1 and itself. The lowest (and only even) prime number is 2. The first 10 prime numbers are 2, 3, 5, 7, 11, 13, 17, 19, 23, and 29. Write a function that returns a **list off all prime numbers** below a given number.\n",
    "\n",
    "Hint: In a loop where you test the possible dividers of the number, you can conclude that the number is not prime as soon as you encounter a number other than 1 or the number itself that divides it. However, you can *only* conclude that it actually *is* prime after you have tested all possible dividers.\n",
    "\n",
    "**What is the challenge here? You have to try to optimize your code and try to make it work for the highest prime number you can encounter before you run out of memory. For low numbers you should know how to do it already**"
   ]
  },
  {
   "cell_type": "code",
   "execution_count": 5,
   "metadata": {},
   "outputs": [
    {
     "name": "stdout",
     "output_type": "stream",
     "text": [
      "2411 is a Prime Number\n"
     ]
    }
   ],
   "source": [
    "#Your Code Here\n",
    "\n",
    "def primecheck(input):\n",
    "    \n",
    "    #Not Prime Number Flag Statement\n",
    "\n",
    "    NotPrimeFlag=False\n",
    "\n",
    "    #If statement checking denominator\n",
    "    for i in range (2,input):\n",
    "        if input%i==0:\n",
    "            NotPrimeFlag=True\n",
    "            break\n",
    "    \n",
    "    if NotPrimeFlag==True:\n",
    "        print(f\"{input} is not a Prime Number\")\n",
    "    else:\n",
    "        print(f\"{input} is a Prime Number\")\n",
    "\n",
    "primecheck(2411)"
   ]
  }
 ],
 "metadata": {
  "kernelspec": {
   "display_name": "Python 3",
   "language": "python",
   "name": "python3"
  },
  "language_info": {
   "codemirror_mode": {
    "name": "ipython",
    "version": 3
   },
   "file_extension": ".py",
   "mimetype": "text/x-python",
   "name": "python",
   "nbconvert_exporter": "python",
   "pygments_lexer": "ipython3",
   "version": "3.8.10"
  }
 },
 "nbformat": 4,
 "nbformat_minor": 4
}
