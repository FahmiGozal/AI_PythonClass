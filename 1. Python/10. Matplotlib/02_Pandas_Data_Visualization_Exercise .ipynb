{
 "cells": [
  {
   "cell_type": "markdown",
   "metadata": {
    "colab_type": "text",
    "id": "ei43mhQr5esi"
   },
   "source": [
    "# Pandas Data Visualization Exercise\n",
    "\n",
    "This is just a quick exercise for you to review the various plots we showed earlier. Use **df3** to replicate the following plots. "
   ]
  },
  {
   "cell_type": "code",
   "execution_count": 1,
   "metadata": {
    "colab": {},
    "colab_type": "code",
    "id": "MUJD_Qzn5esq"
   },
   "outputs": [],
   "source": [
    "import numpy as np\n",
    "import pandas as pd\n",
    "import matplotlib.pyplot as plt\n",
    "data = {\"a\": np.random.random(500),\n",
    "        \"b\": np.random.random(500),\n",
    "        \"c\": np.random.random(500),\n",
    "        \"d\": np.random.random(500)}\n",
    "df3 = pd.DataFrame(data)\n",
    "%matplotlib inline"
   ]
  },
  {
   "cell_type": "code",
   "execution_count": 2,
   "metadata": {
    "colab": {},
    "colab_type": "code",
    "id": "7iu6LOQM5es3",
    "outputId": "8cd6ff81-053e-4ea6-ef78-80098b5ffa77"
   },
   "outputs": [
    {
     "name": "stdout",
     "output_type": "stream",
     "text": [
      "<class 'pandas.core.frame.DataFrame'>\n",
      "RangeIndex: 500 entries, 0 to 499\n",
      "Data columns (total 4 columns):\n",
      " #   Column  Non-Null Count  Dtype  \n",
      "---  ------  --------------  -----  \n",
      " 0   a       500 non-null    float64\n",
      " 1   b       500 non-null    float64\n",
      " 2   c       500 non-null    float64\n",
      " 3   d       500 non-null    float64\n",
      "dtypes: float64(4)\n",
      "memory usage: 15.8 KB\n"
     ]
    }
   ],
   "source": [
    "df3.info()"
   ]
  },
  {
   "cell_type": "code",
   "execution_count": 3,
   "metadata": {
    "colab": {},
    "colab_type": "code",
    "id": "2YKqzeAy5etE",
    "outputId": "2b51a67a-c03d-4189-ee17-3c344c4eda77"
   },
   "outputs": [
    {
     "data": {
      "text/html": [
       "<div>\n",
       "<style scoped>\n",
       "    .dataframe tbody tr th:only-of-type {\n",
       "        vertical-align: middle;\n",
       "    }\n",
       "\n",
       "    .dataframe tbody tr th {\n",
       "        vertical-align: top;\n",
       "    }\n",
       "\n",
       "    .dataframe thead th {\n",
       "        text-align: right;\n",
       "    }\n",
       "</style>\n",
       "<table border=\"1\" class=\"dataframe\">\n",
       "  <thead>\n",
       "    <tr style=\"text-align: right;\">\n",
       "      <th></th>\n",
       "      <th>a</th>\n",
       "      <th>b</th>\n",
       "      <th>c</th>\n",
       "      <th>d</th>\n",
       "    </tr>\n",
       "  </thead>\n",
       "  <tbody>\n",
       "    <tr>\n",
       "      <th>0</th>\n",
       "      <td>0.129886</td>\n",
       "      <td>0.414488</td>\n",
       "      <td>0.543137</td>\n",
       "      <td>0.360512</td>\n",
       "    </tr>\n",
       "    <tr>\n",
       "      <th>1</th>\n",
       "      <td>0.918374</td>\n",
       "      <td>0.650520</td>\n",
       "      <td>0.510234</td>\n",
       "      <td>0.841059</td>\n",
       "    </tr>\n",
       "    <tr>\n",
       "      <th>2</th>\n",
       "      <td>0.743646</td>\n",
       "      <td>0.269508</td>\n",
       "      <td>0.259370</td>\n",
       "      <td>0.734775</td>\n",
       "    </tr>\n",
       "    <tr>\n",
       "      <th>3</th>\n",
       "      <td>0.586809</td>\n",
       "      <td>0.994709</td>\n",
       "      <td>0.042107</td>\n",
       "      <td>0.805881</td>\n",
       "    </tr>\n",
       "    <tr>\n",
       "      <th>4</th>\n",
       "      <td>0.460435</td>\n",
       "      <td>0.038104</td>\n",
       "      <td>0.138043</td>\n",
       "      <td>0.463797</td>\n",
       "    </tr>\n",
       "  </tbody>\n",
       "</table>\n",
       "</div>"
      ],
      "text/plain": [
       "          a         b         c         d\n",
       "0  0.129886  0.414488  0.543137  0.360512\n",
       "1  0.918374  0.650520  0.510234  0.841059\n",
       "2  0.743646  0.269508  0.259370  0.734775\n",
       "3  0.586809  0.994709  0.042107  0.805881\n",
       "4  0.460435  0.038104  0.138043  0.463797"
      ]
     },
     "execution_count": 3,
     "metadata": {},
     "output_type": "execute_result"
    }
   ],
   "source": [
    "df3.head()"
   ]
  },
  {
   "cell_type": "markdown",
   "metadata": {
    "colab_type": "text",
    "id": "t5XW5K_65etS"
   },
   "source": [
    "**Recreate this scatter plot of b vs a. Note the color and size of the points. Also note the figure size. See if you can figure out how to stretch it in a similar fashion. Remeber back to your matplotlib lecture...**"
   ]
  },
  {
   "cell_type": "code",
   "execution_count": null,
   "metadata": {},
   "outputs": [],
   "source": []
  },
  {
   "cell_type": "code",
   "execution_count": 4,
   "metadata": {
    "colab": {},
    "colab_type": "code",
    "id": "ezlIiXt55etV",
    "outputId": "e6ce4ba5-1b61-445e-b83e-91b06ee34896"
   },
   "outputs": [],
   "source": [
    "#DO NOT TOUCH ME"
   ]
  },
  {
   "cell_type": "markdown",
   "metadata": {
    "colab_type": "text",
    "id": "6e7m78dv5etd"
   },
   "source": [
    "**Create a histogram of the 'a' column.**"
   ]
  },
  {
   "cell_type": "code",
   "execution_count": null,
   "metadata": {},
   "outputs": [],
   "source": []
  },
  {
   "cell_type": "code",
   "execution_count": 5,
   "metadata": {
    "colab": {},
    "colab_type": "code",
    "id": "BpLniMQB5etf",
    "outputId": "c16b9bb7-990b-421a-8bac-455af72d1c75"
   },
   "outputs": [],
   "source": [
    "#DO NOT TOUCH ME"
   ]
  },
  {
   "cell_type": "markdown",
   "metadata": {
    "colab_type": "text",
    "id": "PEmaK2Eb5etp"
   },
   "source": [
    "**These plots are okay, but they don't look very polished. Use style sheets to set the style to 'ggplot' and redo the histogram from above. Also figure out how to add more bins to it.***"
   ]
  },
  {
   "cell_type": "code",
   "execution_count": null,
   "metadata": {
    "colab": {},
    "colab_type": "code",
    "id": "IONKZj5G5ett"
   },
   "outputs": [],
   "source": []
  },
  {
   "cell_type": "code",
   "execution_count": 6,
   "metadata": {
    "colab": {},
    "colab_type": "code",
    "id": "EaWpNHax5et1",
    "outputId": "753a7466-187e-409e-8eca-39c941279845"
   },
   "outputs": [],
   "source": [
    "#DO NOT TOUCH ME"
   ]
  },
  {
   "cell_type": "markdown",
   "metadata": {
    "colab_type": "text",
    "id": "8OKZSp2r5euD"
   },
   "source": [
    "**Create a boxplot comparing the a and b columns.**"
   ]
  },
  {
   "cell_type": "code",
   "execution_count": null,
   "metadata": {},
   "outputs": [],
   "source": []
  },
  {
   "cell_type": "code",
   "execution_count": 7,
   "metadata": {
    "colab": {},
    "colab_type": "code",
    "id": "0DNE8oUZ5euG",
    "outputId": "464f5e52-1305-4f2e-98e7-2d66e195621a"
   },
   "outputs": [],
   "source": [
    "#DO NOT TOUCH ME"
   ]
  },
  {
   "cell_type": "markdown",
   "metadata": {
    "colab_type": "text",
    "id": "3P2pWu105euO"
   },
   "source": [
    "**Create a kde plot of the 'd' column**"
   ]
  },
  {
   "cell_type": "code",
   "execution_count": null,
   "metadata": {},
   "outputs": [],
   "source": []
  },
  {
   "cell_type": "code",
   "execution_count": 8,
   "metadata": {
    "colab": {},
    "colab_type": "code",
    "id": "-zRkfUeN5euQ",
    "outputId": "9ca830fb-c88a-4296-d9db-8f8b68b8551a"
   },
   "outputs": [],
   "source": [
    "#DO NOT TOUCH ME"
   ]
  },
  {
   "cell_type": "markdown",
   "metadata": {
    "colab_type": "text",
    "id": "YKYEbuWj5euY"
   },
   "source": [
    "**Figure out how to increase the linewidth and make the linestyle dashed. (Note: You would usually not dash a kde plot line)**"
   ]
  },
  {
   "cell_type": "code",
   "execution_count": null,
   "metadata": {},
   "outputs": [],
   "source": []
  },
  {
   "cell_type": "code",
   "execution_count": 9,
   "metadata": {
    "colab": {},
    "colab_type": "code",
    "id": "tRqK_5n55eud",
    "outputId": "d9e93ada-b6ec-433d-8b01-e6affc242138"
   },
   "outputs": [],
   "source": [
    "#DO NOT TOUCH ME"
   ]
  },
  {
   "cell_type": "markdown",
   "metadata": {
    "colab_type": "text",
    "id": "3WD7RkoJ5euj"
   },
   "source": [
    "**Create an area plot of all the columns for just the rows up to 30. (hint: use .ix).**"
   ]
  },
  {
   "cell_type": "code",
   "execution_count": null,
   "metadata": {},
   "outputs": [],
   "source": []
  },
  {
   "cell_type": "code",
   "execution_count": 10,
   "metadata": {
    "colab": {},
    "colab_type": "code",
    "id": "NSaMSqh05eul",
    "outputId": "282a4787-0b70-4754-a4bb-ef9a335cbea7"
   },
   "outputs": [],
   "source": [
    "#DO NOT TOUCH ME"
   ]
  },
  {
   "cell_type": "markdown",
   "metadata": {
    "colab_type": "text",
    "id": "RR2U8i2S5euv"
   },
   "source": [
    "## Bonus Challenge!\n",
    "Note, you may find this really hard, reference the solutions if you can't figure it out!\n",
    "** Notice how the legend in our previous figure overlapped some of actual diagram. Can you figure out how to display the legend outside of the plot as shown below?**\n",
    "\n",
    "**Try searching Google for a good stackoverflow link on this topic. If you can't find it on your own - [use this one for a hint.](http://stackoverflow.com/questions/23556153/how-to-put-legend-outside-the-plot-with-pandas)**"
   ]
  },
  {
   "cell_type": "code",
   "execution_count": null,
   "metadata": {},
   "outputs": [],
   "source": []
  },
  {
   "cell_type": "code",
   "execution_count": 11,
   "metadata": {
    "colab": {},
    "colab_type": "code",
    "id": "D_1EjM5n5eux",
    "outputId": "ed239ffb-9e71-4e7f-9281-23f269bad91d"
   },
   "outputs": [],
   "source": [
    "#DO NOT TOUCH ME"
   ]
  },
  {
   "cell_type": "markdown",
   "metadata": {
    "colab_type": "text",
    "id": "Uowq3GJv5eu-"
   },
   "source": [
    "# Great Job!"
   ]
  }
 ],
 "metadata": {
  "colab": {
   "name": "Pandas Data Visualization Exercise .ipynb",
   "provenance": [],
   "version": "0.3.2"
  },
  "interpreter": {
   "hash": "850c152f8f84f3548ed5f09fd834180be13dced819bcdf283d955f3afcab8cf5"
  },
  "kernelspec": {
   "display_name": "Python 3.8.10 64-bit ('myenv': conda)",
   "name": "python3"
  },
  "language_info": {
   "name": "python",
   "version": ""
  },
  "varInspector": {
   "cols": {
    "lenName": 16,
    "lenType": 16,
    "lenVar": 40
   },
   "kernels_config": {
    "python": {
     "delete_cmd_postfix": "",
     "delete_cmd_prefix": "del ",
     "library": "var_list.py",
     "varRefreshCmd": "print(var_dic_list())"
    },
    "r": {
     "delete_cmd_postfix": ") ",
     "delete_cmd_prefix": "rm(",
     "library": "var_list.r",
     "varRefreshCmd": "cat(var_dic_list()) "
    }
   },
   "types_to_exclude": [
    "module",
    "function",
    "builtin_function_or_method",
    "instance",
    "_Feature"
   ],
   "window_display": false
  }
 },
 "nbformat": 4,
 "nbformat_minor": 1
}