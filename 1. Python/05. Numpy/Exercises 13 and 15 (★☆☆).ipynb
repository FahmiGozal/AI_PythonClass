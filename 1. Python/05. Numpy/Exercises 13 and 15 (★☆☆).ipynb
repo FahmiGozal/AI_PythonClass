{
 "cells": [
  {
   "cell_type": "code",
   "execution_count": 10,
   "id": "biological-worcester",
   "metadata": {},
   "outputs": [],
   "source": [
    "# Import the needed libraries\n",
    "import numpy as np"
   ]
  },
  {
   "source": [
    "#**13. Create a 10x10 array with random values and find the minimum and maximum values**\n",
    "\n",
    "arr1 = np.random.normal(15, size=(10,10))\n",
    "maxvalue = arr1.max()\n",
    "minvalue = arr1.min()\n",
    "\n",
    "print(arr1)\n",
    "\n",
    "print(maxvalue)\n",
    "print(minvalue)\n"
   ],
   "cell_type": "code",
   "metadata": {},
   "execution_count": 11,
   "outputs": [
    {
     "output_type": "stream",
     "name": "stdout",
     "text": [
      "[[14.89402045 13.68906745 13.88761437 15.03871724 14.38898093 14.33626239\n  15.25724322 13.42258065 15.88976564 15.68560596]\n [12.6161363  16.35431447 13.33783989 16.01387161 14.52287105 12.36613231\n  15.28472069 12.51170364 15.93009268 13.96091789]\n [14.76551235 15.17392712 13.46357756 14.35329436 15.19139819 14.35843084\n  15.27705934 14.94999728 15.24909331 14.31898231]\n [14.67804347 16.73257896 15.25047287 13.10834706 14.71539604 17.05155167\n  14.38820582 15.2334275  16.18995856 17.15187557]\n [14.61682488 12.85138308 14.85514873 15.01114671 12.94018295 16.96455244\n  14.02934762 15.1616777  15.3789903  16.53757006]\n [14.01031666 13.6741094  14.76242465 15.72823106 14.72127973 14.42327986\n  15.91220036 15.47619363 15.04046912 14.15254248]\n [15.28883602 14.45606568 15.41716197 13.80639666 15.66384159 14.41538287\n  15.18703654 14.12992939 15.42524683 15.48746458]\n [16.05850734 13.77735218 14.07455636 15.68930023 13.97236867 15.87061584\n  16.00135629 15.69946209 13.85448673 14.75322194]\n [15.96734297 14.21455826 14.06298546 14.62601329 17.18006121 15.20251798\n  13.18435095 15.10672383 14.11452357 14.2250637 ]\n [16.96842342 14.54455002 14.44388548 15.51636435 15.36067606 14.73193136\n  15.98308117 14.27569447 14.55190937 14.44372116]]\n17.180061214959174\n12.366132308137304\n"
     ]
    }
   ]
  },
  {
   "cell_type": "code",
   "execution_count": null,
   "id": "joint-explorer",
   "metadata": {},
   "outputs": [],
   "source": []
  },
  {
   "cell_type": "markdown",
   "id": "exempt-organ",
   "metadata": {},
   "source": [
    "**15. Create a 2d array with 1 on the border and 0 inside**"
   ]
  },
  {
   "cell_type": "code",
   "execution_count": 12,
   "id": "sufficient-facility",
   "metadata": {},
   "outputs": [
    {
     "output_type": "stream",
     "name": "stdout",
     "text": [
      "Original Array :\n[[0. 0. 0.]\n [0. 0. 0.]\n [0. 0. 0.]]\nPadded Array with 1 on sides\n[[1. 1. 1. 1. 1.]\n [1. 0. 0. 0. 1.]\n [1. 0. 0. 0. 1.]\n [1. 0. 0. 0. 1.]\n [1. 1. 1. 1. 1.]]\n"
     ]
    }
   ],
   "source": [
    "arr2=np.zeros((3,3))\n",
    "\n",
    "print(\"Original Array :\")\n",
    "print(arr2)\n",
    "\n",
    "arr2=np.pad(arr2,pad_width=1, mode='constant', constant_values=1)\n",
    "\n",
    "print(\"Padded Array with 1 on sides\")\n",
    "print(arr2)"
   ]
  }
 ],
 "metadata": {
  "kernelspec": {
   "name": "python3810jvsc74a57bd0850c152f8f84f3548ed5f09fd834180be13dced819bcdf283d955f3afcab8cf5",
   "display_name": "Python 3.8.10 64-bit ('myenv': conda)"
  },
  "language_info": {
   "codemirror_mode": {
    "name": "ipython",
    "version": 3
   },
   "file_extension": ".py",
   "mimetype": "text/x-python",
   "name": "python",
   "nbconvert_exporter": "python",
   "pygments_lexer": "ipython3",
   "version": "3.8.10"
  }
 },
 "nbformat": 4,
 "nbformat_minor": 5
}