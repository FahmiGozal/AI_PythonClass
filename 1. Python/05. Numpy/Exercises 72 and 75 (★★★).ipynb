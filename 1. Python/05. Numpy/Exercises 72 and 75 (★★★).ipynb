{
 "cells": [
  {
   "cell_type": "code",
   "execution_count": 37,
   "id": "complimentary-handbook",
   "metadata": {
    "slideshow": {
     "slide_type": "slide"
    }
   },
   "outputs": [],
   "source": [
    "# Import the needed libraries\n",
    "import numpy as np"
   ]
  },
  {
   "cell_type": "markdown",
   "id": "pacific-kentucky",
   "metadata": {},
   "source": [
    "**72. How to swap two rows of an array?** "
   ]
  },
  {
   "cell_type": "code",
   "execution_count": 38,
   "id": "proper-reservoir",
   "metadata": {},
   "outputs": [
    {
     "output_type": "stream",
     "name": "stdout",
     "text": [
      "[[0 1 2]\n [3 4 5]\n [6 7 8]]\n\n\nrearrange row 1 to row 3, and vice versa\n[[6 7 8]\n [3 4 5]\n [0 1 2]]\n"
     ]
    }
   ],
   "source": [
    "#To swap the rows, simply change the Index!\n",
    "\n",
    "arr1 = np.arange(9).reshape((3,3))\n",
    "print(arr1)\n",
    "print('\\n')\n",
    "print('rearrange row 1 to row 3, and vice versa')\n",
    "\n",
    "arr1[[0,2]]=arr1[[2,0]]\n",
    "print(arr1)\n"
   ]
  },
  {
   "cell_type": "markdown",
   "id": "outer-encoding",
   "metadata": {},
   "source": [
    "**75. How to compute averages using a sliding window over an array?**"
   ]
  },
  {
   "cell_type": "code",
   "execution_count": 39,
   "id": "active-reply",
   "metadata": {},
   "outputs": [
    {
     "output_type": "stream",
     "name": "stdout",
     "text": [
      "[ 0  1  2  3  4  5  6  7  8  9 10 11 12 13 14 15 16 17 18 19]\nplaceholder for each iteration\n[  0.   1.   3.   6.  10.  15.  21.  28.  36.  45.  55.  66.  78.  91.\n 105. 120. 136. 153. 171. 190.]\n[15. 20. 25. 30. 35. 40. 45. 50. 55. 60. 65. 70. 75. 80. 85.]\n"
     ]
    },
    {
     "output_type": "execute_result",
     "data": {
      "text/plain": [
       "array([ 2.,  3.,  4.,  5.,  6.,  7.,  8.,  9., 10., 11., 12., 13., 14.,\n",
       "       15., 16., 17.])"
      ]
     },
     "metadata": {},
     "execution_count": 39
    }
   ],
   "source": [
    "arr1=np.arange(20)\n",
    "\n",
    "print(arr1)\n",
    "\n",
    "def moving_average(a,n):\n",
    "    test = np.cumsum(a, dtype=float)\n",
    "    print(\"placeholder printing\")\n",
    "    print(test)\n",
    "    test[n:] = test[n:]-test[:-n]\n",
    "    print(test[n:])\n",
    "    return test[n - 1:] / n\n",
    "\n",
    "    \n",
    "\n",
    "moving_average(arr1,5)"
   ]
  },
  {
   "cell_type": "code",
   "execution_count": null,
   "metadata": {},
   "outputs": [],
   "source": []
  }
 ],
 "metadata": {
  "kernelspec": {
   "name": "python3810jvsc74a57bd0850c152f8f84f3548ed5f09fd834180be13dced819bcdf283d955f3afcab8cf5",
   "display_name": "Python 3.8.10 64-bit ('myenv': conda)"
  },
  "language_info": {
   "codemirror_mode": {
    "name": "ipython",
    "version": 3
   },
   "file_extension": ".py",
   "mimetype": "text/x-python",
   "name": "python",
   "nbconvert_exporter": "python",
   "pygments_lexer": "ipython3",
   "version": "3.8.10"
  }
 },
 "nbformat": 4,
 "nbformat_minor": 5
}