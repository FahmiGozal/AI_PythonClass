{
 "cells": [
  {
   "cell_type": "markdown",
   "metadata": {},
   "source": [
    "**Exercise 5.2:** Write and test three functions that return the largest, the smallest, and the number of dividables by 3 in a given collection of numbers. Use the algorithm described earlier in the Part 5 lecture :)"
   ]
  },
  {
   "cell_type": "code",
   "execution_count": 57,
   "metadata": {},
   "outputs": [
    {
     "name": "stdout",
     "output_type": "stream",
     "text": [
      "Max is 100\n",
      "Min is 2\n",
      "Total number divisible by 3 is 4\n"
     ]
    }
   ],
   "source": [
    "# Your functions\n",
    "\n",
    "def main():\n",
    "\n",
    "    \"\"\"\n",
    "    a = [2, 4, 6, 12, 15, 99, 100]\n",
    "    100\n",
    "    2\n",
    "    4\n",
    "    \"\"\"\n",
    "    a = [2, 4, 6, 12, 15, 99, 100]\n",
    "    \n",
    "    #Flavor Text for Practice combining string and integer\n",
    "    print(f\"Max is {max(a)}\")\n",
    "    print(f\"Min is {min(a)}\")\n",
    "    \n",
    "    j=0\n",
    "    \n",
    "    tablelength=len(a)\n",
    "    \n",
    "    for i in range (0,tablelength,1):\n",
    "        if a[i]%3==0:\n",
    "            j += 1\n",
    "    \n",
    "    #Flavor Text for Practice combining string and integer\n",
    "    print(f\"Total number divisible by 3 is {j}\")\n",
    "    \n",
    "    return\n",
    "\n",
    "main()"
   ]
  }
 ],
 "metadata": {
  "kernelspec": {
   "display_name": "Python 3",
   "language": "python",
   "name": "python3"
  },
  "language_info": {
   "codemirror_mode": {
    "name": "ipython",
    "version": 3
   },
   "file_extension": ".py",
   "mimetype": "text/x-python",
   "name": "python",
   "nbconvert_exporter": "python",
   "pygments_lexer": "ipython3",
   "version": "3.8.10"
  }
 },
 "nbformat": 4,
 "nbformat_minor": 4
}
