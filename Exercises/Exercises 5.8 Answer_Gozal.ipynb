{
 "cells": [
  {
   "cell_type": "markdown",
   "metadata": {},
   "source": [
    "**Exercise 5.8 (🌶️):** A, B, C, and D are all different digits. The number DCBA is equal to 4 times the number ABCD. What are the digits? Note: to make ABCD and DCBA conventional numbers, neither A nor D can be zero. Use a quadruple-nested loop."
   ]
  },
  {
   "cell_type": "code",
   "execution_count": 20,
   "metadata": {},
   "outputs": [
    {
     "name": "stdout",
     "output_type": "stream",
     "text": [
      "A = 2\n",
      "B = 1\n",
      "C = 7\n",
      "D = 8\n"
     ]
    }
   ],
   "source": [
    "#Your Code Here\n",
    "# Solve 4*ABCD == DCBA\n",
    "def nested_nest():\n",
    "    \n",
    "    \"\"\"\n",
    "    A = 2\n",
    "    B = 1\n",
    "    C = 7\n",
    "    D = 8\n",
    "    \"\"\"\n",
    "    \n",
    "    A=1\n",
    "    B=0\n",
    "    C=0\n",
    "    D=1\n",
    "    \n",
    "    for A in range (1,9):\n",
    "        for B in range (0,9):\n",
    "            for C in range (0,9):\n",
    "                for D in range (1,9):\n",
    "                    ABCD=A*1000+B*100+C*10+D\n",
    "                    DCBA=D*1000+C*100+B*10+A\n",
    "                    if DCBA/ABCD==4:\n",
    "                        break\n",
    "                    else:\n",
    "                        D += 1\n",
    "                if DCBA/ABCD==4:\n",
    "                    break\n",
    "                else:\n",
    "                    C += 1\n",
    "            if DCBA/ABCD==4:\n",
    "                break\n",
    "            else:\n",
    "                B += 1\n",
    "        if DCBA/ABCD==4:\n",
    "            break\n",
    "        else:\n",
    "            A += 1\n",
    "    \n",
    "    print (f\"A = {A}\")\n",
    "    print (f\"B = {B}\")\n",
    "    print (f\"C = {C}\")\n",
    "    print (f\"D = {D}\")\n",
    "            \n",
    "                    \n",
    "    return\n",
    "\n",
    "nested_nest()\n",
    "    "
   ]
  },
  {
   "cell_type": "code",
   "execution_count": null,
   "metadata": {},
   "outputs": [],
   "source": []
  }
 ],
 "metadata": {
  "kernelspec": {
   "display_name": "Python 3",
   "language": "python",
   "name": "python3"
  },
  "language_info": {
   "codemirror_mode": {
    "name": "ipython",
    "version": 3
   },
   "file_extension": ".py",
   "mimetype": "text/x-python",
   "name": "python",
   "nbconvert_exporter": "python",
   "pygments_lexer": "ipython3",
   "version": "3.8.10"
  }
 },
 "nbformat": 4,
 "nbformat_minor": 4
}
