{
 "cells": [
  {
   "cell_type": "code",
   "execution_count": null,
   "metadata": {},
   "outputs": [],
   "source": [
    "#import libraries\r\n",
    "\r\n",
    "from selenium import webdriver\r\n",
    "\r\n"
   ]
  },
  {
   "cell_type": "code",
   "execution_count": null,
   "metadata": {},
   "outputs": [],
   "source": [
    "#Blocks for Location Scraping\r\n",
    "\r\n",
    "#defining options\r\n",
    "\r\n",
    "options = webdriver.ChromeOptions()\r\n",
    "\r\n",
    "options.add_argument('headless')\r\n",
    "\r\n",
    "browser = webdriver\r\n",
    "\r\n"
   ]
  }
 ],
 "metadata": {
  "interpreter": {
   "hash": "850c152f8f84f3548ed5f09fd834180be13dced819bcdf283d955f3afcab8cf5"
  },
  "kernelspec": {
   "display_name": "Python 3.8.10 64-bit ('myenv': conda)",
   "name": "python3"
  },
  "language_info": {
   "name": "python",
   "version": ""
  },
  "orig_nbformat": 4
 },
 "nbformat": 4,
 "nbformat_minor": 2
}